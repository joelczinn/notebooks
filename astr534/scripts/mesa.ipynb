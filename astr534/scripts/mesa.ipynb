{
 "cells": [
  {
   "cell_type": "markdown",
   "id": "6e3c7afa-a02b-47b8-b988-19e84e619a03",
   "metadata": {},
   "source": [
    "MESA is a stellar structure code that solves the equations of stellar structure, including time-dependent evolution\n",
    "of the structure due to the energy equation.\n",
    "\n",
    "MESA is installed on the machines and we will be using it to run a solar model in class.\n",
    "\n",
    "Begin by creating a directory called 1msun under astr534. This will be where the model is evolved.\n",
    "\n",
    "`>>> cd ~/Desktop/work`\n",
    "\n",
    "And copy over the MESA run files to this directory (this will \n",
    "\n",
    "`>>> rsync -avz  ~/Desktop/notebooks/astr534/mesa_files/1msun ./`\n",
    "\n",
    "Compile the code\n",
    "\n",
    "`>>> cd ~/Desktop/work/1msun`\n",
    "\n",
    "`>>> ./mk`\n",
    "\n",
    "And run\n",
    "\n",
    "`>>> ./rn`\n",
    "\n",
    "This will evolve the Sun from its birth to present-day.\n",
    "\n",
    "Exercise 0.\n",
    "As the model runs, there will be an abundance plot showing the evolution of the abundances of species as a function of radius in the star.\n",
    "It will also show the simultaneous evolution of the star on the H-R diagram.\n",
    "Before it begins H burning, how is the star maintaining its luminosity?\n",
    "\n",
    "Note that you may look at the H-R diagram and abundance plots by doing:\n",
    "\n",
    "`>>> open png/*`"
   ]
  },
  {
   "cell_type": "code",
   "execution_count": 91,
   "id": "7bd3c832-2d7d-479d-b640-7b02f8f838f9",
   "metadata": {},
   "outputs": [],
   "source": [
    "# this will make sure that Poly2 is imported in, which you will want to compare polytropic solutions to MESA's solutions.\n",
    "# it will produce the output from this notebook, which you can just ignore.\n",
    "# %run lane_emden_soln.ipynb"
   ]
  },
  {
   "cell_type": "code",
   "execution_count": 96,
   "id": "affeb20a-e235-453f-8200-7701d3006360",
   "metadata": {},
   "outputs": [
    {
     "name": "stderr",
     "output_type": "stream",
     "text": [
      "No artists with labels found to put in legend.  Note that artists whose label start with an underscore are ignored when legend() is called with no argument.\n"
     ]
    },
    {
     "data": {
      "image/png": "[encoded data removed]",
      "text/plain": [
       "<Figure size 432x288 with 1 Axes>"
      ]
     },
     "metadata": {
      "needs_background": "light"
     },
     "output_type": "display_data"
    }
   ],
   "source": [
    "import mesa_reader # this will enable reading the stellar data\n",
    "import glob # this will help with getting filenames in the directory storing the MESA output\n",
    "import pylab as plt\n",
    "%matplotlib inline\n",
    "\n",
    "# The resulting output is in LOGS_to_sun.\n",
    "\n",
    "d = '/Users/ASTR434/Desktop/work/1msun/' # you will need to change this to be the location of your working 1msun directory\n",
    "\n",
    "# One of the output files is called history.data, which can be read in like:\n",
    "# mesa_header = mesa_reader.MesaData(d+'/LOGS_to_sun/history.data').bulk_data \n",
    "# and will contain the evolution of a certain quantity as a function of time, with\n",
    "# each row representing that property of the star a certain time later\n",
    "# There are several quantities available. E.g.:\n",
    "# log_Teff: log10(Temperature at surface in K)\n",
    "# log_L: log10(Luminosity of the star in solar units)\n",
    "# log_R: log10(radius of the star in solar units)\n",
    "# star_age: age of the star in years\n",
    "# log_LH: log10(luminosity of the star due to H burning in solar units)\n",
    "# log_center_T: log10(central temperature in K)\n",
    "# center_h1: H mass fraction at the center\n",
    "# there are other columns, as well, and descriptions are available if you open a new terminal window and do:\n",
    "# >>> cd $MESA_DIR/star/defaults\n",
    "# >>> open history_columns.list\n",
    "\n",
    "# this will show the H-R diagram\n",
    "history = mesa_reader.MesaData(d+'/LOGS_to_sun/history.data').bulk_data \n",
    "plt.plot(10**history['log_Teff'], 10**history['log_L']) # plot the effective temperature and luminosity of each model step.\n",
    "plt.xlim([6000, 3000]) # with the x-axis backward\n",
    "plt.xscale('log') # H-R diagrams are shown in log-log space\n",
    "plt.yscale('log') \n",
    "plt.xlabel(r'Effective temperature [K]')\n",
    "plt.ylabel(r'Luminosity [$L_{\\odot}$]')\n",
    "\n",
    "# MESA will also save entire stellar structures (not just the star's bulk properties)\n",
    "# every so often as the star evolves in what are called 'profile' files.\n",
    "# the resulting profile files (e.g., LOGS_to_sun/profile1.data [ignore the *.GYRE files for now]) have two components:\n",
    "# 1) a header, which can be read in using \n",
    "# mesa_header = mesa_reader.MesaData(d+'/LOGS_to_sun/profile1.data').header_data\n",
    "# and which contains global information about the star. E.g.:\n",
    "# mesa_header['photosphere_L']\n",
    "# and\n",
    "# 2) a bulk data table, which can be read in using\n",
    "# mesa = mesa_reader.MesaData(d+'/LOGS_to_sun/profile1.data').bulk_data\n",
    "# and which contains information about the star at every point in its interior (the first row is the topmost layer and the last is the center). E.g.:\n",
    "# logR: log10(radius coordinate in cm)\n",
    "# logT: log10(temperature in K)\n",
    "# logRho: log10(density in cgs units)\n",
    "# logP: log10(pressure in cgs units)\n",
    "# pressure_scale_height: pressure scale height in cm\n",
    "# grada: adiabatic thermal gradient (nabla_ad)\n",
    "# gradr: radiative thermal gradient (nabla_rad)\n",
    "# gradT: actual thermal gradient\n",
    "# h1: mass fraction of hydrogen\n",
    "# there are other columns, as well, and descriptions are available if you open a new terminal window and do:\n",
    "# >>> cd $MESA_DIR/star/defaults\n",
    "# >>> open profile_columns.list\n",
    "\n",
    "files = glob.glob(d+'/LOGS_to_sun/profile*.data') # this will get all the profile files and put them in a list that can be looped over.\n",
    "\n",
    "# Exercise 1.\n",
    "# Plot the locations of the profile models on the H-R diagram using a for loop.\n",
    "# Give each one a label called\n",
    "# 'profile'+f.split('profile')[-1]\n",
    "# where f is the filename in the <files> list that you are looping over.\n",
    "\n",
    "for f in files:\n",
    "    pass\n",
    "\n",
    "plt.legend()\n",
    "plt.show()\n",
    "\n",
    "# Compare this to the solar-mass H-R diagram from this paper (Fig. 3):\n",
    "# http://adsabs.harvard.edu/abs/2016ApJ...823..102C\n",
    "# They define the beginning of the main sequence to be when\n",
    "# the first point at which H burning luminosity is 99.9% of the total AND\n",
    "# the central hydrogen mass fraction has not fallen below 0.0015 of its initial value.\n",
    "# which profile is closest to the beginning of the main sequence (zero-age main sequence [ZAMS])?\n",
    "# (Using just your eye to compare for now.)\n",
    "\n",
    "# Exercise 2.\n",
    "# Using the same range for the x-axis as your H-R diagram, but in separate plots,\n",
    "# Show that this is reasonable by looking at two quantities:\n",
    "# 1) H burning luminosity as a function of temperature\n",
    "# and\n",
    "# 2) central hydrogen mass fraction as a function of temperature\n",
    "# (Use plt.show() after each to make them be in separate plots.)"
   ]
  },
  {
   "cell_type": "code",
   "execution_count": 95,
   "id": "f239d950-e01f-4876-b07c-cbd67a22d0b4",
   "metadata": {},
   "outputs": [
    {
     "data": {
      "text/plain": [
       "[<matplotlib.lines.Line2D at 0x7fb5283baa30>]"
      ]
     },
     "execution_count": 95,
     "metadata": {},
     "output_type": "execute_result"
    },
    {
     "data": {
      "image/png": "[encoded data removed]",
      "text/plain": [
       "<Figure size 432x288 with 1 Axes>"
      ]
     },
     "metadata": {
      "needs_background": "light"
     },
     "output_type": "display_data"
    }
   ],
   "source": [
    "# Now let's see what the pressure and density profile of the Sun at different stages in its evolution look like.\n",
    "\n",
    "mesa = mesa_reader.MesaData(d+'/LOGS_to_sun/profile1.data').bulk_data\n",
    "mesa_header = mesa_reader.MesaData(d+'/LOGS_to_sun/profile1.data').header_data\n",
    "\n",
    "plt.plot(10.**mesa['logR']/mesa_header['photosphere_r'], 10.**mesa['logP']/10.**mesa['logP'][-1], color='red', label='MESA P ')\n",
    "plt.plot(10.**mesa['logR']/mesa_header['photosphere_r'], 10.**mesa['logRho']/10.**mesa['logRho'][-1], color='red', label=r'MESA $\\rho$', linestyle='dashed')\n",
    "\n",
    "# Exercise 3.\n",
    "# Plot the polytrope pressure and density profile for comparison for different values of n, being sure to normalize by the central pressure and density. n=3, from the previous HW, describes a star\n",
    "# with a constant fraction of its pressure supplied by radiation, and has been historically used to model the Sun.\n",
    "# To compare to the above MESA plots, you will need to plot r/R on the x-axis.\n",
    "\n",
    "# p = Poly2(n=3)\n",
    "\n",
    "# p has attributes Rx (p.Rx)\n",
    "# and methods\n",
    "# p.P0(x, M, R) --- the pressure as a function of re-scaled radius, x, M (in solar units), and R (in solar units)\n",
    "# p.rho0(x, M, R) --- the density as a function of re-scaled radius, x, M (in solar units), and R (in solar units)"
   ]
  },
  {
   "cell_type": "code",
   "execution_count": 94,
   "id": "f8b079f7-f4ab-484a-8e14-0d7fd213fc10",
   "metadata": {},
   "outputs": [
    {
     "data": {
      "image/png": "[encoded data removed]",
      "text/plain": [
       "<Figure size 432x288 with 1 Axes>"
      ]
     },
     "metadata": {
      "needs_background": "light"
     },
     "output_type": "display_data"
    }
   ],
   "source": [
    "# Exercise 4.\n",
    "# Make another plot showing the temperature gradient compared to the adiabatic temperature gradient as a function\n",
    "# of the normalized radius coordinate, r/R.\n",
    "# Describe in words what is happening to the thermal gradient as the star evolves.\n",
    "# Before settling onto the main sequence, the Sun is in its pre--main sequence phase.\n",
    "# In this phase, it is not hot enough at the center to burn H enough to account for most of its luminosity,\n",
    "# and so it gets its energy from converting gravitational potential energy into heat (by contracting). \n",
    "# How is the Sun transporting its energy in the pre--main sequence phase compared to today?"
   ]
  },
  {
   "cell_type": "code",
   "execution_count": null,
   "id": "30774b8e-2e80-4b52-b85d-2e4ebe7a4e80",
   "metadata": {},
   "outputs": [],
   "source": []
  }
 ],
 "metadata": {
  "kernelspec": {
   "display_name": "Python 3",
   "language": "python",
   "name": "python3"
  },
  "language_info": {
   "codemirror_mode": {
    "name": "ipython",
    "version": 3
   },
   "file_extension": ".py",
   "mimetype": "text/x-python",
   "name": "python",
   "nbconvert_exporter": "python",
   "pygments_lexer": "ipython3",
   "version": "3.8.6"
  }
 },
 "nbformat": 4,
 "nbformat_minor": 5
}
